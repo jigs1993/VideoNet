{
 "cells": [
  {
   "cell_type": "code",
   "execution_count": 36,
   "metadata": {
    "collapsed": false
   },
   "outputs": [],
   "source": [
    "import os\n",
    "import numpy as np\n",
    "import pickle\n",
    "import subprocess as sp\n",
    "import matplotlib.image as mpimg\n",
    "import caffe \n",
    "import sys\n"
   ]
  },
  {
   "cell_type": "code",
   "execution_count": null,
   "metadata": {
    "collapsed": false
   },
   "outputs": [],
   "source": [
    "caffe_root = '/home/ubuntu/caffe/'\n",
    "\n",
    "sys.path.insert(0, caffe_root + 'python')\n",
    "\n",
    "print 'setting up alexnet...'\n",
    "caffe.set_mode_gpu()\n",
    "alexnet = caffe.Classifier('/home/ubuntu/VideoNet/deploy.prototxt',\n",
    "    caffe_root + 'models/bvlc_reference_caffenet/bvlc_reference_caffenet.caffemodel')\n",
    "\n",
    "alexnet.transformer.set_mean('data', np.load(caffe_root + 'python/caffe/imagenet/ilsvrc_2012_mean.npy').mean(1).mean(1))\n",
    "alexnet.transformer.set_raw_scale('data', 255)\n",
    "alexnet.transformer.set_channel_swap('data', (2, 1, 0))\n",
    "\n",
    "DATA_PATH = '/home/ubuntu/VideoNet/cnn_in_data_server_2seconds/' #path to the extracted frames (png) of each video of each class\n",
    "\n",
    "class_names = sorted(os.listdir(DATA_PATH)) \n",
    "\n",
    "WRITE_PATH = '/home/ubuntu/VideoNet/cnn_out_data_fc6_2seconds_doubledata/' #path to write the output of CNN 10*4096 per video\n",
    "\n",
    "\n",
    "print(\"generating CNN output...\")\n",
    "\n",
    "for class_index in range(len(class_names)):\n",
    "    \n",
    "    class_name = class_names[class_index]\n",
    "    print('extracting for class %s' % class_name)\n",
    "\n",
    "    write_dir = WRITE_PATH + class_name + '/'\n",
    "    if not os.path.isdir(write_dir):\n",
    "        os.mkdir(write_dir) \n",
    "\n",
    "    class_dir = DATA_PATH + class_name + '/'\n",
    "\n",
    "    for pfile in sorted(os.listdir(class_dir)):\n",
    "\n",
    "            batch = []\n",
    "            for i in range(10): #we are using 10 frames per video\n",
    "                if(i != 9):\n",
    "                    filename = '0' + str(i+1) + '.png'\n",
    "                elif(i == 9):\n",
    "                    filename = str(i+1) + '.png'\n",
    "                if not os.path.isfile(class_dir + pfile + '/' + filename):\n",
    "                    filename = '01.png'\n",
    "                    print 'Less than 10 images'\n",
    "                img=mpimg.imread(class_dir + pfile + '/' + filename)\n",
    "                temp = img.transpose(2,0,1)\n",
    "                batch.append(temp)\n",
    "\n",
    "            cnn_input = np.array(batch)\n",
    "            \n",
    "            #cnn_input.shape\n",
    "            #without flipping\n",
    "            cnn_out = alexnet.forward(**{alexnet.inputs[0]: cnn_input, 'blobs': ['fc6']})\n",
    "            outlist = []\n",
    "            for key, value in cnn_out.iteritems():\n",
    "                temp_val = [value]\n",
    "                if(key == 'fc6'):\n",
    "                    outlist.append(temp_val)\n",
    "            outlist = np.array(outlist)\n",
    "            outlist = outlist.squeeze()\n",
    "            write_name = pfile + '_cnn_output'    \n",
    "            with open(write_dir + write_name, 'w') as w_pfile:\n",
    "                    pickle.dump(outlist, w_pfile)\n",
    "\n",
    "            #with flipping\n",
    "            cnn_input = cnn_input.transpose(2,3,1,0)\n",
    "            for i in range(cnn_input.shape[3]):\n",
    "                cnn_input[:,:,:,i] = np.fliplr(cnn_input[:,:,:,i])\n",
    "            cnn_input = cnn_input.transpose(3,2,0,1)\n",
    "            \n",
    "            cnn_out = alexnet.forward(**{alexnet.inputs[0]: cnn_input, 'blobs': ['fc6']})\n",
    "            outlist = []\n",
    "            for key, value in cnn_out.iteritems():\n",
    "                temp_val = [value]\n",
    "                if(key == 'fc6'):\n",
    "                    outlist.append(temp_val)\n",
    "            outlist = np.array(outlist)\n",
    "            outlist = outlist.squeeze()\n",
    "            write_name = pfile + '_cnn_output_flip'    \n",
    "            with open(write_dir + write_name, 'w') as w_pfile:\n",
    "                    pickle.dump(outlist, w_pfile)"
   ]
  },
  {
   "cell_type": "code",
   "execution_count": null,
   "metadata": {
    "collapsed": true
   },
   "outputs": [],
   "source": []
  }
 ],
 "metadata": {
  "kernelspec": {
   "display_name": "Python 2",
   "language": "python",
   "name": "python2"
  },
  "language_info": {
   "codemirror_mode": {
    "name": "ipython",
    "version": 2
   },
   "file_extension": ".py",
   "mimetype": "text/x-python",
   "name": "python",
   "nbconvert_exporter": "python",
   "pygments_lexer": "ipython2",
   "version": "2.7.11"
  }
 },
 "nbformat": 4,
 "nbformat_minor": 0
}


kadmc
dkca
